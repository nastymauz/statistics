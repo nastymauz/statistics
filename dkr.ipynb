{
 "cells": [
  {
   "cell_type": "code",
   "execution_count": 1,
   "id": "bca146b3",
   "metadata": {},
   "outputs": [],
   "source": [
    "import pandas as pd\n",
    "import seaborn as sns\n",
    "import numpy as np\n",
    "import math as mth\n",
    "import scipy.stats as stats\n",
    "import matplotlib.pyplot as plt\n",
    "import warnings\n",
    "warnings.filterwarnings(\"ignore\")"
   ]
  },
  {
   "cell_type": "markdown",
   "id": "fb9b1ec7",
   "metadata": {},
   "source": [
    "## Задание 1"
   ]
  },
  {
   "cell_type": "markdown",
   "id": "27d29fc7",
   "metadata": {},
   "source": [
    "В результате эксперимента получены статистические данные,\n",
    "представленные в виде статистического ряда."
   ]
  },
  {
   "cell_type": "code",
   "execution_count": 2,
   "id": "a383646f",
   "metadata": {},
   "outputs": [],
   "source": [
    "data = pd.Series([76, 28, 151, 91, 60, 204, 117, 102, 128, 217,  \n",
    "              120, 66, 207, 126, 124, 152, 27, 221, 131, 51,\n",
    "              241, 77, 250, 134, 123, 147, 184, 195, 47, 160, \n",
    "              159, 74, 169, 178, 79, 129, 250, 223, 182, 96,\n",
    "              135, 199, 56, 25, 82, 116, 44, 229, 145, 203,\n",
    "              88, 209, 146, 224, 239, 103, 201, 245, 130, 163,\n",
    "              71, 165, 176, 194, 78, 154, 99, 78, 127, 69,\n",
    "              171, 173, 31, 181, 117, 84, 73, 161, 240, 149,\n",
    "              247, 107, 140, 53, 205, 155, 29, 132, 185, 179,\n",
    "              180, 128, 42, 114, 93, 191, 174, 210, 133, 226])"
   ]
  },
  {
   "cell_type": "markdown",
   "id": "2376be3f",
   "metadata": {},
   "source": [
    "### 1) записать значения результатов эксперимента в виде вариационного ряда;"
   ]
  },
  {
   "cell_type": "code",
   "execution_count": 52,
   "id": "b46fffd5",
   "metadata": {},
   "outputs": [
    {
     "data": {
      "text/html": [
       "<div>\n",
       "<style scoped>\n",
       "    .dataframe tbody tr th:only-of-type {\n",
       "        vertical-align: middle;\n",
       "    }\n",
       "\n",
       "    .dataframe tbody tr th {\n",
       "        vertical-align: top;\n",
       "    }\n",
       "\n",
       "    .dataframe thead th {\n",
       "        text-align: right;\n",
       "    }\n",
       "</style>\n",
       "<table border=\"1\" class=\"dataframe\">\n",
       "  <thead>\n",
       "    <tr style=\"text-align: right;\">\n",
       "      <th></th>\n",
       "      <th>Интервал</th>\n",
       "      <th>Количество значений</th>\n",
       "    </tr>\n",
       "  </thead>\n",
       "  <tbody>\n",
       "    <tr>\n",
       "      <th>0</th>\n",
       "      <td>(24.773999999999997, 50.0]</td>\n",
       "      <td>8</td>\n",
       "    </tr>\n",
       "    <tr>\n",
       "      <th>1</th>\n",
       "      <td>(50.0, 75.0]</td>\n",
       "      <td>9</td>\n",
       "    </tr>\n",
       "    <tr>\n",
       "      <th>2</th>\n",
       "      <td>(75.0, 100.0]</td>\n",
       "      <td>12</td>\n",
       "    </tr>\n",
       "    <tr>\n",
       "      <th>3</th>\n",
       "      <td>(100.0, 125.0]</td>\n",
       "      <td>10</td>\n",
       "    </tr>\n",
       "    <tr>\n",
       "      <th>4</th>\n",
       "      <td>(125.0, 150.0]</td>\n",
       "      <td>16</td>\n",
       "    </tr>\n",
       "    <tr>\n",
       "      <th>5</th>\n",
       "      <td>(150.0, 175.0]</td>\n",
       "      <td>13</td>\n",
       "    </tr>\n",
       "    <tr>\n",
       "      <th>6</th>\n",
       "      <td>(175.0, 200.0]</td>\n",
       "      <td>12</td>\n",
       "    </tr>\n",
       "    <tr>\n",
       "      <th>7</th>\n",
       "      <td>(200.0, 225.0]</td>\n",
       "      <td>11</td>\n",
       "    </tr>\n",
       "    <tr>\n",
       "      <th>8</th>\n",
       "      <td>(225.0, 250.0]</td>\n",
       "      <td>9</td>\n",
       "    </tr>\n",
       "  </tbody>\n",
       "</table>\n",
       "</div>"
      ],
      "text/plain": [
       "                     Интервал  Количество значений\n",
       "0  (24.773999999999997, 50.0]                    8\n",
       "1                (50.0, 75.0]                    9\n",
       "2               (75.0, 100.0]                   12\n",
       "3              (100.0, 125.0]                   10\n",
       "4              (125.0, 150.0]                   16\n",
       "5              (150.0, 175.0]                   13\n",
       "6              (175.0, 200.0]                   12\n",
       "7              (200.0, 225.0]                   11\n",
       "8              (225.0, 250.0]                    9"
      ]
     },
     "execution_count": 52,
     "metadata": {},
     "output_type": "execute_result"
    }
   ],
   "source": [
    "ar=data.value_counts(bins=9, sort=False).reset_index()\n",
    "ar.columns=['Интервал','Количество значений']\n",
    "ar"
   ]
  },
  {
   "cell_type": "markdown",
   "id": "3141e726",
   "metadata": {},
   "source": [
    "### 2) найти размах варьирования и разбить его на 9 интервалов;"
   ]
  },
  {
   "cell_type": "code",
   "execution_count": 5,
   "id": "435c9b86",
   "metadata": {},
   "outputs": [
    {
     "data": {
      "text/plain": [
       "250"
      ]
     },
     "execution_count": 5,
     "metadata": {},
     "output_type": "execute_result"
    }
   ],
   "source": [
    "data.max()"
   ]
  },
  {
   "cell_type": "code",
   "execution_count": 6,
   "id": "93a14081",
   "metadata": {},
   "outputs": [
    {
     "data": {
      "text/plain": [
       "25"
      ]
     },
     "execution_count": 6,
     "metadata": {},
     "output_type": "execute_result"
    }
   ],
   "source": [
    "data.min()"
   ]
  },
  {
   "cell_type": "code",
   "execution_count": 7,
   "id": "247fa071",
   "metadata": {},
   "outputs": [
    {
     "name": "stdout",
     "output_type": "stream",
     "text": [
      "размах варьирования: 225\n"
     ]
    }
   ],
   "source": [
    "print('размах варьирования:', data.max()-data.min())"
   ]
  },
  {
   "cell_type": "code",
   "execution_count": 8,
   "id": "05ae526a",
   "metadata": {},
   "outputs": [],
   "source": [
    "intervals=[25, 50, 75, 100, 125, 150, 175, 200, 225, 250]"
   ]
  },
  {
   "cell_type": "markdown",
   "id": "69cceaf9",
   "metadata": {},
   "source": [
    "### 3) построить полигон частот, гистограмму относительных частот, ящик с усами и график эмпирической функции распределения;"
   ]
  },
  {
   "cell_type": "markdown",
   "id": "9bd4196e",
   "metadata": {},
   "source": [
    "#### Полигон частот"
   ]
  },
  {
   "cell_type": "code",
   "execution_count": 9,
   "id": "a4ae4651",
   "metadata": {},
   "outputs": [
    {
     "data": {
      "image/png": "[encoded data removed]",
      "text/plain": [
       "<Figure size 432x288 with 1 Axes>"
      ]
     },
     "metadata": {
      "needs_background": "light"
     },
     "output_type": "display_data"
    }
   ],
   "source": [
    "intervals=[25, 50, 75, 100, 125, 150, 175, 200, 225, 250]\n",
    "y,edges,_=plt.hist(data, bins=9, histtype='step', edgecolor = 'w')\n",
    "midpoints=0.5*(edges[1:]+edges[:-1])\n",
    "plt.plot(midpoints, y)\n",
    "plt.xticks(intervals)\n",
    "plt.show()"
   ]
  },
  {
   "cell_type": "markdown",
   "id": "e115903c",
   "metadata": {},
   "source": [
    "#### Гистограмма относительных частот"
   ]
  },
  {
   "cell_type": "code",
   "execution_count": 10,
   "id": "ea0d9ae3",
   "metadata": {},
   "outputs": [
    {
     "data": {
      "image/png": "[encoded data removed]",
      "text/plain": [
       "<Figure size 432x288 with 1 Axes>"
      ]
     },
     "metadata": {
      "needs_background": "light"
     },
     "output_type": "display_data"
    }
   ],
   "source": [
    "fig = plt.figure()\n",
    "ax = fig.add_subplot (111)\n",
    "ax.hist(data, edgecolor='black', bins = 9, weights=np.ones_like (data) / len (data)) \n",
    "plt.show()"
   ]
  },
  {
   "cell_type": "markdown",
   "id": "132d27c3",
   "metadata": {},
   "source": [
    "#### Ящик с усами"
   ]
  },
  {
   "cell_type": "code",
   "execution_count": 11,
   "id": "2f5409c4",
   "metadata": {},
   "outputs": [
    {
     "data": {
      "image/png": "[encoded data removed]",
      "text/plain": [
       "<Figure size 432x288 with 1 Axes>"
      ]
     },
     "metadata": {
      "needs_background": "light"
     },
     "output_type": "display_data"
    }
   ],
   "source": [
    "plt.boxplot(data)\n",
    "plt.show()"
   ]
  },
  {
   "cell_type": "code",
   "execution_count": 12,
   "id": "62abd407",
   "metadata": {},
   "outputs": [
    {
     "data": {
      "text/plain": [
       "count    100.000000\n",
       "mean     139.920000\n",
       "std       61.103271\n",
       "min       25.000000\n",
       "25%       90.250000\n",
       "50%      137.500000\n",
       "75%      184.250000\n",
       "max      250.000000\n",
       "dtype: float64"
      ]
     },
     "execution_count": 12,
     "metadata": {},
     "output_type": "execute_result"
    }
   ],
   "source": [
    "data.describe()"
   ]
  },
  {
   "cell_type": "markdown",
   "id": "02e2ab44",
   "metadata": {},
   "source": [
    "#### График эмпирической функции распределения"
   ]
  },
  {
   "cell_type": "code",
   "execution_count": 13,
   "id": "5a87911a",
   "metadata": {},
   "outputs": [
    {
     "data": {
      "image/png": "[encoded data removed]",
      "text/plain": [
       "<Figure size 432x288 with 1 Axes>"
      ]
     },
     "metadata": {
      "needs_background": "light"
     },
     "output_type": "display_data"
    }
   ],
   "source": [
    "sns.kdeplot(data, cumulative=True)\n",
    "plt.show()"
   ]
  },
  {
   "cell_type": "markdown",
   "id": "62be6d14",
   "metadata": {},
   "source": [
    "### 4) найти числовые характеристики выборки: выборочное среднее и выборочную дисперсию; выборочные коэффициенты асимметрии и эксцесса"
   ]
  },
  {
   "cell_type": "markdown",
   "id": "b42ecf2d",
   "metadata": {},
   "source": [
    "#### Выборочное среднее"
   ]
  },
  {
   "cell_type": "code",
   "execution_count": 14,
   "id": "41d66314",
   "metadata": {},
   "outputs": [
    {
     "data": {
      "text/plain": [
       "139.92"
      ]
     },
     "execution_count": 14,
     "metadata": {},
     "output_type": "execute_result"
    }
   ],
   "source": [
    "np.mean(data)"
   ]
  },
  {
   "cell_type": "markdown",
   "id": "3f99e22c",
   "metadata": {},
   "source": [
    "#### Выборочная дисперсия"
   ]
  },
  {
   "cell_type": "code",
   "execution_count": 15,
   "id": "ff134f6f",
   "metadata": {},
   "outputs": [
    {
     "data": {
      "text/plain": [
       "3696.2736000000004"
      ]
     },
     "execution_count": 15,
     "metadata": {},
     "output_type": "execute_result"
    }
   ],
   "source": [
    "np.var(data)"
   ]
  },
  {
   "cell_type": "markdown",
   "id": "59fc404b",
   "metadata": {},
   "source": [
    "#### Коэффициент асимметрии"
   ]
  },
  {
   "cell_type": "code",
   "execution_count": 16,
   "id": "468463d9",
   "metadata": {},
   "outputs": [
    {
     "data": {
      "text/plain": [
       "-0.05095513898775224"
      ]
     },
     "execution_count": 16,
     "metadata": {},
     "output_type": "execute_result"
    }
   ],
   "source": [
    "from scipy.stats import skew\n",
    "skew(data, bias= False )"
   ]
  },
  {
   "cell_type": "markdown",
   "id": "4b29cb69",
   "metadata": {},
   "source": [
    "#### Коэффициент эксцесса"
   ]
  },
  {
   "cell_type": "code",
   "execution_count": 17,
   "id": "1d198add",
   "metadata": {},
   "outputs": [
    {
     "data": {
      "text/plain": [
       "-0.914058462642434"
      ]
     },
     "execution_count": 17,
     "metadata": {},
     "output_type": "execute_result"
    }
   ],
   "source": [
    "from scipy.stats import kurtosis\n",
    "kurtosis(data, bias= False )"
   ]
  },
  {
   "cell_type": "markdown",
   "id": "5b35f79c",
   "metadata": {},
   "source": [
    "### 5) приняв в качестве нулевой гипотезы H 0 : генеральная совокупность, из которой извлечена выборка, имеет нормальное распределение, проверить её, пользуясь критерием Пирсона при уровне значимости 0.05"
   ]
  },
  {
   "cell_type": "code",
   "execution_count": 18,
   "id": "29f6d4a7",
   "metadata": {},
   "outputs": [
    {
     "data": {
      "text/plain": [
       "Power_divergenceResult(statistic=2641.7049742710124, pvalue=0.0)"
      ]
     },
     "execution_count": 18,
     "metadata": {},
     "output_type": "execute_result"
    }
   ],
   "source": [
    "stats.chisquare(data)"
   ]
  },
  {
   "cell_type": "markdown",
   "id": "f6892cfe",
   "metadata": {},
   "source": [
    "p-value равно 0, поэтому нулевая гипотеза отвергается и принимается альтернативная: генеральная совокупность, из которой извлечена выборка, не имеет нормальное распределение"
   ]
  },
  {
   "cell_type": "markdown",
   "id": "5e64444b",
   "metadata": {},
   "source": [
    "Перепроверю с помощью критерия Шапиро-Уилка"
   ]
  },
  {
   "cell_type": "code",
   "execution_count": 19,
   "id": "2dd99fe4",
   "metadata": {},
   "outputs": [
    {
     "name": "stdout",
     "output_type": "stream",
     "text": [
      "p-значение:  0.04147115349769592\n",
      "Отвергаем нулевую гипотезу: распределение не нормально\n"
     ]
    }
   ],
   "source": [
    "alpha = 0.05\n",
    "\n",
    "results = stats.shapiro(data)\n",
    "p_value = results[\n",
    "    1\n",
    "] \n",
    "\n",
    "print('p-значение: ', p_value)\n",
    "\n",
    "if p_value < alpha:\n",
    "    print('Отвергаем нулевую гипотезу: распределение не нормально')\n",
    "else:\n",
    "    print('Не получилось отвергнуть нулевую гипотезу, всё нормально') "
   ]
  },
  {
   "cell_type": "markdown",
   "id": "51c69f0a",
   "metadata": {},
   "source": [
    "### 6) найти доверительные интервалы для математического ожидания и среднего квадратичного отклонения при надежности 95%"
   ]
  },
  {
   "cell_type": "markdown",
   "id": "78eb24bc",
   "metadata": {},
   "source": [
    "#### Для математического ожидания"
   ]
  },
  {
   "cell_type": "code",
   "execution_count": 20,
   "id": "3141c181",
   "metadata": {},
   "outputs": [
    {
     "data": {
      "text/plain": [
       "(127.94397899824261, 151.89602100175736)"
      ]
     },
     "execution_count": 20,
     "metadata": {},
     "output_type": "execute_result"
    }
   ],
   "source": [
    "stats.norm.interval(alpha=0.95, loc=np.mean(data), scale=stats.sem(data))"
   ]
  },
  {
   "cell_type": "markdown",
   "id": "7477c460",
   "metadata": {},
   "source": [
    "#### Для среднего квадратичного отклонения "
   ]
  },
  {
   "cell_type": "code",
   "execution_count": 21,
   "id": "de828e98",
   "metadata": {},
   "outputs": [
    {
     "data": {
      "text/plain": [
       "(48.82096576568037, 72.77300776919512)"
      ]
     },
     "execution_count": 21,
     "metadata": {},
     "output_type": "execute_result"
    }
   ],
   "source": [
    "stats.norm.interval(alpha=0.95, loc=np.std(data), scale=stats.sem(data))"
   ]
  },
  {
   "cell_type": "markdown",
   "id": "8356d2b9",
   "metadata": {},
   "source": [
    "## Задание 2"
   ]
  },
  {
   "cell_type": "markdown",
   "id": "b5d59b2e",
   "metadata": {},
   "source": [
    "Для Х"
   ]
  },
  {
   "cell_type": "code",
   "execution_count": 25,
   "id": "2e0fc613",
   "metadata": {},
   "outputs": [
    {
     "data": {
      "text/html": [
       "<div>\n",
       "<style scoped>\n",
       "    .dataframe tbody tr th:only-of-type {\n",
       "        vertical-align: middle;\n",
       "    }\n",
       "\n",
       "    .dataframe tbody tr th {\n",
       "        vertical-align: top;\n",
       "    }\n",
       "\n",
       "    .dataframe thead th {\n",
       "        text-align: right;\n",
       "    }\n",
       "</style>\n",
       "<table border=\"1\" class=\"dataframe\">\n",
       "  <thead>\n",
       "    <tr style=\"text-align: right;\">\n",
       "      <th></th>\n",
       "      <th>Xi</th>\n",
       "      <th>ni</th>\n",
       "      <th>M</th>\n",
       "      <th>D</th>\n",
       "    </tr>\n",
       "  </thead>\n",
       "  <tbody>\n",
       "    <tr>\n",
       "      <th>0</th>\n",
       "      <td>300</td>\n",
       "      <td>11</td>\n",
       "      <td>3300</td>\n",
       "      <td>990000</td>\n",
       "    </tr>\n",
       "    <tr>\n",
       "      <th>1</th>\n",
       "      <td>305</td>\n",
       "      <td>7</td>\n",
       "      <td>2135</td>\n",
       "      <td>651175</td>\n",
       "    </tr>\n",
       "    <tr>\n",
       "      <th>2</th>\n",
       "      <td>310</td>\n",
       "      <td>31</td>\n",
       "      <td>9610</td>\n",
       "      <td>2979100</td>\n",
       "    </tr>\n",
       "    <tr>\n",
       "      <th>3</th>\n",
       "      <td>315</td>\n",
       "      <td>19</td>\n",
       "      <td>5985</td>\n",
       "      <td>1885275</td>\n",
       "    </tr>\n",
       "    <tr>\n",
       "      <th>4</th>\n",
       "      <td>320</td>\n",
       "      <td>20</td>\n",
       "      <td>6400</td>\n",
       "      <td>2048000</td>\n",
       "    </tr>\n",
       "    <tr>\n",
       "      <th>5</th>\n",
       "      <td>325</td>\n",
       "      <td>12</td>\n",
       "      <td>3900</td>\n",
       "      <td>1267500</td>\n",
       "    </tr>\n",
       "  </tbody>\n",
       "</table>\n",
       "</div>"
      ],
      "text/plain": [
       "    Xi  ni     M        D\n",
       "0  300  11  3300   990000\n",
       "1  305   7  2135   651175\n",
       "2  310  31  9610  2979100\n",
       "3  315  19  5985  1885275\n",
       "4  320  20  6400  2048000\n",
       "5  325  12  3900  1267500"
      ]
     },
     "execution_count": 25,
     "metadata": {},
     "output_type": "execute_result"
    }
   ],
   "source": [
    "x_df = pd.DataFrame({'Xi': [300, 305, 310, 315, 320, 325],\n",
    "                  'ni': [11, 7, 31, 19, 20, 12]})\n",
    "x_df['M']=x_df['Xi']*x_df['ni']\n",
    "x_df['D']=x_df['Xi']**2*x_df['ni']\n",
    "x_df"
   ]
  },
  {
   "cell_type": "markdown",
   "id": "07c9ab66",
   "metadata": {},
   "source": [
    "Для Y"
   ]
  },
  {
   "cell_type": "code",
   "execution_count": 26,
   "id": "06ec1081",
   "metadata": {},
   "outputs": [
    {
     "data": {
      "text/html": [
       "<div>\n",
       "<style scoped>\n",
       "    .dataframe tbody tr th:only-of-type {\n",
       "        vertical-align: middle;\n",
       "    }\n",
       "\n",
       "    .dataframe tbody tr th {\n",
       "        vertical-align: top;\n",
       "    }\n",
       "\n",
       "    .dataframe thead th {\n",
       "        text-align: right;\n",
       "    }\n",
       "</style>\n",
       "<table border=\"1\" class=\"dataframe\">\n",
       "  <thead>\n",
       "    <tr style=\"text-align: right;\">\n",
       "      <th></th>\n",
       "      <th>Yi</th>\n",
       "      <th>ni</th>\n",
       "      <th>M</th>\n",
       "      <th>D</th>\n",
       "    </tr>\n",
       "  </thead>\n",
       "  <tbody>\n",
       "    <tr>\n",
       "      <th>0</th>\n",
       "      <td>2400</td>\n",
       "      <td>5</td>\n",
       "      <td>12000</td>\n",
       "      <td>28800000</td>\n",
       "    </tr>\n",
       "    <tr>\n",
       "      <th>1</th>\n",
       "      <td>2440</td>\n",
       "      <td>5</td>\n",
       "      <td>12200</td>\n",
       "      <td>29768000</td>\n",
       "    </tr>\n",
       "    <tr>\n",
       "      <th>2</th>\n",
       "      <td>2480</td>\n",
       "      <td>12</td>\n",
       "      <td>29760</td>\n",
       "      <td>73804800</td>\n",
       "    </tr>\n",
       "    <tr>\n",
       "      <th>3</th>\n",
       "      <td>2520</td>\n",
       "      <td>22</td>\n",
       "      <td>55440</td>\n",
       "      <td>139708800</td>\n",
       "    </tr>\n",
       "    <tr>\n",
       "      <th>4</th>\n",
       "      <td>2560</td>\n",
       "      <td>20</td>\n",
       "      <td>51200</td>\n",
       "      <td>131072000</td>\n",
       "    </tr>\n",
       "    <tr>\n",
       "      <th>5</th>\n",
       "      <td>2600</td>\n",
       "      <td>12</td>\n",
       "      <td>31200</td>\n",
       "      <td>81120000</td>\n",
       "    </tr>\n",
       "    <tr>\n",
       "      <th>6</th>\n",
       "      <td>2640</td>\n",
       "      <td>11</td>\n",
       "      <td>29040</td>\n",
       "      <td>76665600</td>\n",
       "    </tr>\n",
       "    <tr>\n",
       "      <th>7</th>\n",
       "      <td>2680</td>\n",
       "      <td>13</td>\n",
       "      <td>34840</td>\n",
       "      <td>93371200</td>\n",
       "    </tr>\n",
       "  </tbody>\n",
       "</table>\n",
       "</div>"
      ],
      "text/plain": [
       "     Yi  ni      M          D\n",
       "0  2400   5  12000   28800000\n",
       "1  2440   5  12200   29768000\n",
       "2  2480  12  29760   73804800\n",
       "3  2520  22  55440  139708800\n",
       "4  2560  20  51200  131072000\n",
       "5  2600  12  31200   81120000\n",
       "6  2640  11  29040   76665600\n",
       "7  2680  13  34840   93371200"
      ]
     },
     "execution_count": 26,
     "metadata": {},
     "output_type": "execute_result"
    }
   ],
   "source": [
    "y_df = pd.DataFrame({'Yi': [2400, 2440, 2480, 2520, 2560, 2600, 2640, 2680],\n",
    "                  'ni': [5, 5, 12, 22, 20, 12, 11, 13]})\n",
    "y_df['M']=y_df['Yi']*y_df['ni']\n",
    "y_df['D']=y_df['Yi']**2*y_df['ni']\n",
    "y_df"
   ]
  },
  {
   "cell_type": "code",
   "execution_count": 27,
   "id": "d131f794",
   "metadata": {},
   "outputs": [
    {
     "name": "stdout",
     "output_type": "stream",
     "text": [
      "Среднее Х: 313.3\n"
     ]
    }
   ],
   "source": [
    "av_x=sum(x_df['M'])/sum(x_df['ni'])\n",
    "print('Среднее Х:', av_x)"
   ]
  },
  {
   "cell_type": "code",
   "execution_count": 28,
   "id": "5090d262",
   "metadata": {},
   "outputs": [
    {
     "name": "stdout",
     "output_type": "stream",
     "text": [
      "Среднее Y: 2556.8\n"
     ]
    }
   ],
   "source": [
    "av_y=sum(y_df['M'])/sum(y_df['ni'])\n",
    "print('Среднее Y:', av_y)"
   ]
  },
  {
   "cell_type": "code",
   "execution_count": 29,
   "id": "ac0a73bf",
   "metadata": {},
   "outputs": [
    {
     "name": "stdout",
     "output_type": "stream",
     "text": [
      "Стандартное отклонение Х: 7.321885003193237\n"
     ]
    }
   ],
   "source": [
    "std_x=((sum(x_df['D'])/sum(x_df['ni']))-av_x**2)**0.5\n",
    "print('Стандартное отклонение Х:', std_x)"
   ]
  },
  {
   "cell_type": "code",
   "execution_count": 30,
   "id": "138d2de7",
   "metadata": {},
   "outputs": [
    {
     "name": "stdout",
     "output_type": "stream",
     "text": [
      "Стандартное отклонение Y: 76.66655072454247\n"
     ]
    }
   ],
   "source": [
    "std_y=((sum(y_df['D'])/sum(y_df['ni'])-av_y**2))**0.5\n",
    "print('Стандартное отклонение Y:', std_y)"
   ]
  },
  {
   "cell_type": "code",
   "execution_count": 31,
   "id": "367d3fc3",
   "metadata": {},
   "outputs": [],
   "source": [
    "av_xy=2400*5*300+2440*4*300+2440*1*305+2480*2*300+2480*3*305+2480*7*310+2520*3*305+2520*10*310+2520*9*315+2560*14*310+2560*6*315+2600*4*315+2600*8*320+2640*5*320+2640*6*325+2680*7*320+2680*6*325"
   ]
  },
  {
   "cell_type": "code",
   "execution_count": 32,
   "id": "baf54015",
   "metadata": {},
   "outputs": [
    {
     "name": "stdout",
     "output_type": "stream",
     "text": [
      "Среднее произведение xy: 801550.0\n"
     ]
    }
   ],
   "source": [
    "print('Среднее произведение xy:', av_xy/100)"
   ]
  },
  {
   "cell_type": "code",
   "execution_count": 33,
   "id": "9c27524a",
   "metadata": {},
   "outputs": [
    {
     "name": "stdout",
     "output_type": "stream",
     "text": [
      "Линейный коэффициент корреляции: 0.8988433089495765\n"
     ]
    }
   ],
   "source": [
    "corr=((av_xy/100)-av_x*av_y)/(std_x*std_y)\n",
    "print('Линейный коэффициент корреляции:', corr)"
   ]
  },
  {
   "cell_type": "code",
   "execution_count": 40,
   "id": "0adaf786",
   "metadata": {},
   "outputs": [
    {
     "data": {
      "text/plain": [
       "9.411676925947976"
      ]
     },
     "execution_count": 40,
     "metadata": {},
     "output_type": "execute_result"
    }
   ],
   "source": [
    "a= (corr*std_y)/std_x\n",
    "a"
   ]
  },
  {
   "cell_type": "code",
   "execution_count": 41,
   "id": "85e1cbd0",
   "metadata": {},
   "outputs": [
    {
     "data": {
      "text/plain": [
       "-391.8783808995008"
      ]
     },
     "execution_count": 41,
     "metadata": {},
     "output_type": "execute_result"
    }
   ],
   "source": [
    "b=av_y-a*av_x\n",
    "b"
   ]
  },
  {
   "cell_type": "markdown",
   "id": "aed029d3",
   "metadata": {},
   "source": [
    "Уравнение прямой регрессии x на y: y=9.411*x-391.878"
   ]
  },
  {
   "cell_type": "code",
   "execution_count": 44,
   "id": "e9d4b159",
   "metadata": {},
   "outputs": [],
   "source": [
    "sh = pd.DataFrame({'Y': [2400,2440, 2440, 2480, 2480, 2480, 2520, 2520, 2520, 2560, 2560, 2600, 2600],\n",
    "                  'X': [300, 300, 305, 300, 305, 310, 305, 310, 315, 310, 315, 315, 320]})"
   ]
  },
  {
   "cell_type": "code",
   "execution_count": 46,
   "id": "2970bbf7",
   "metadata": {},
   "outputs": [
    {
     "data": {
      "image/png": "[encoded data removed]",
      "text/plain": [
       "<Figure size 432x288 with 1 Axes>"
      ]
     },
     "metadata": {
      "needs_background": "light"
     },
     "output_type": "display_data"
    }
   ],
   "source": [
    "plt.scatter(sh.X, sh.Y)\n",
    "plt.plot(sh['X'], 9.411*sh['X']-391.878)\n",
    "plt.show()"
   ]
  },
  {
   "cell_type": "code",
   "execution_count": null,
   "id": "ca2228d6",
   "metadata": {},
   "outputs": [],
   "source": []
  }
 ],
 "metadata": {
  "kernelspec": {
   "display_name": "Python 3 (ipykernel)",
   "language": "python",
   "name": "python3"
  },
  "language_info": {
   "codemirror_mode": {
    "name": "ipython",
    "version": 3
   },
   "file_extension": ".py",
   "mimetype": "text/x-python",
   "name": "python",
   "nbconvert_exporter": "python",
   "pygments_lexer": "ipython3",
   "version": "3.9.12"
  }
 },
 "nbformat": 4,
 "nbformat_minor": 5
}
